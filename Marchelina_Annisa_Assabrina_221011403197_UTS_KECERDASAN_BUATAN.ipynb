{
  "cells": [
    {
      "cell_type": "code",
      "source": [
        "# Data\n",
        "\n",
        "company_detail_list = [\n",
        "      {\n",
        "          'name': 'Company 1',\n",
        "          'domain': 'Retail',\n",
        "          'country': 'United States'\n",
        "      },\n",
        "      {\n",
        "          'name': 'Company 2',\n",
        "          'domain': 'Technology',\n",
        "          'country': 'United Kingdom'\n",
        "      },\n",
        "      {\n",
        "          'name': 'Company 3',\n",
        "          'domain': 'Healthcare',\n",
        "          'country': 'United States'\n",
        "      }\n",
        "  ]\n",
        "\n",
        "employee_detail_list = [\n",
        "     {\n",
        "          'name': 'EMP-0001',\n",
        "          'first_name': 'John',\n",
        "          'last_name': 'Doe',\n",
        "          'full_name': 'John Doe',\n",
        "          'company': 'Company 1',\n",
        "          'nationality': 'Australia'\n",
        "      },\n",
        "      {\n",
        "          'name': 'EMP-0002',\n",
        "          'first_name': 'Tom',\n",
        "          'last_name': 'Smith',\n",
        "          'full_name': 'Tom Smith',\n",
        "          'company': 'Company 2',\n",
        "          'nationality': 'United States'\n",
        "      },\n",
        "      {\n",
        "          'name': 'EMP-0003',\n",
        "          'first_name': 'Andrew',\n",
        "          'last_name': 'Sebastian',\n",
        "          'full_name': 'Andrew Sebastian',\n",
        "          'company': 'Company 3',\n",
        "          'nationality': 'United States'\n",
        "      },\n",
        "      {\n",
        "          'name': 'EMP-0005',\n",
        "          'first_name': 'Ying Han',\n",
        "          'last_name': 'Tan',\n",
        "          'full_name': 'Ying Han Tan',\n",
        "          'company': 'Company 1',\n",
        "          'nationality': 'Australia'\n",
        "      },\n",
        "      {\n",
        "          'name': 'EMP-0015',\n",
        "          'first_name': 'Kenneth',\n",
        "          'last_name': 'Ng',\n",
        "          'full_name': 'Kenneth Ng',\n",
        "          'company': 'Company 3',\n",
        "          'nationality': 'United States'\n",
        "      },\n",
        "      {\n",
        "          'name': 'EMP-0018',\n",
        "          'first_name': 'Rubby',\n",
        "          'last_name': 'Lee',\n",
        "          'full_name': 'Rubby Lee',\n",
        "          'company': 'Company 2',\n",
        "          'nationality': 'Hong Kong'\n",
        "      },\n",
        "     {\n",
        "          'name': 'EMP-0017',\n",
        "          'first_name': 'Robert',\n",
        "          'last_name': 'White',\n",
        "          'full_name': 'Robert White',\n",
        "          'company': 'Company 1',\n",
        "          'nationality': 'United Kingdom'\n",
        "      }\n",
        "  ]"
      ],
      "metadata": {
        "id": "3_gfz4G1FW-Y"
      },
      "execution_count": 1,
      "outputs": []
    },
    {
      "cell_type": "code",
      "source": [
        "sorted_companies = sorted(company_detail_list, key=lambda x: x[\"name\"], reverse=True)\n",
        "print(sorted_companies)"
      ],
      "metadata": {
        "id": "GSDcZIqZ60Yh",
        "outputId": "4ed111bb-2730-4141-bf4a-4e0e478d5403",
        "colab": {
          "base_uri": "https://localhost:8080/"
        }
      },
      "execution_count": 2,
      "outputs": [
        {
          "output_type": "stream",
          "name": "stdout",
          "text": [
            "[{'name': 'Company 3', 'domain': 'Healthcare', 'country': 'United States'}, {'name': 'Company 2', 'domain': 'Technology', 'country': 'United Kingdom'}, {'name': 'Company 1', 'domain': 'Retail', 'country': 'United States'}]\n"
          ]
        }
      ]
    },
    {
      "cell_type": "code",
      "source": [
        "for company in company_detail_list:\n",
        "    print(f\"{company['name']}: {company['domain']} ({company['country']})\")"
      ],
      "metadata": {
        "id": "zgM8aetv7RKv",
        "outputId": "c89b888c-754e-49d4-e8d2-f759e27519a4",
        "colab": {
          "base_uri": "https://localhost:8080/"
        }
      },
      "execution_count": 3,
      "outputs": [
        {
          "output_type": "stream",
          "name": "stdout",
          "text": [
            "Company 1: Retail (United States)\n",
            "Company 2: Technology (United Kingdom)\n",
            "Company 3: Healthcare (United States)\n"
          ]
        }
      ]
    },
    {
      "cell_type": "code",
      "source": [
        "company_to_domain = {company[\"name\"]: company[\"domain\"] for company in company_detail_list}\n",
        "employees_by_domain = {}\n",
        "for employee in employee_detail_list:\n",
        "    domain = company_to_domain[employee[\"company\"]]\n",
        "    if domain not in employees_by_domain:\n",
        "        employees_by_domain[domain] = []\n",
        "    employees_by_domain[domain].append(employee[\"full_name\"])\n",
        "\n",
        "print(employees_by_domain)"
      ],
      "metadata": {
        "id": "f7AEr2kB7T_V",
        "outputId": "8eb2f8ff-ed33-4599-b9c3-6a698a7a1570",
        "colab": {
          "base_uri": "https://localhost:8080/"
        }
      },
      "execution_count": 4,
      "outputs": [
        {
          "output_type": "stream",
          "name": "stdout",
          "text": [
            "{'Retail': ['John Doe', 'Ying Han Tan', 'Robert White'], 'Technology': ['Tom Smith', 'Rubby Lee'], 'Healthcare': ['Andrew Sebastian', 'Kenneth Ng']}\n"
          ]
        }
      ]
    },
    {
      "cell_type": "code",
      "source": [
        "def get_employees_with_company_country(employee_list, company_list):\n",
        "    company_country_map = {company['name']: company['country'] for company in company_list}\n",
        "    result = [\n",
        "        {\n",
        "            \"full_name\": employee['full_name'],\n",
        "            \"company\": employee['company'],\n",
        "            \"country\": company_country_map.get(employee['company'], None)\n",
        "        }\n",
        "        for employee in employee_list\n",
        "    ]\n",
        "    return result\n",
        "employees_with_country = get_employees_with_company_country(employee_detail_list, company_detail_list)\n",
        "print(employees_with_country)"
      ],
      "metadata": {
        "id": "9pN_ZPZn7b-h",
        "outputId": "d4e05007-f837-4df4-daeb-e36ad2802dd8",
        "colab": {
          "base_uri": "https://localhost:8080/"
        }
      },
      "execution_count": 5,
      "outputs": [
        {
          "output_type": "stream",
          "name": "stdout",
          "text": [
            "[{'full_name': 'John Doe', 'company': 'Company 1', 'country': 'United States'}, {'full_name': 'Tom Smith', 'company': 'Company 2', 'country': 'United Kingdom'}, {'full_name': 'Andrew Sebastian', 'company': 'Company 3', 'country': 'United States'}, {'full_name': 'Ying Han Tan', 'company': 'Company 1', 'country': 'United States'}, {'full_name': 'Kenneth Ng', 'company': 'Company 3', 'country': 'United States'}, {'full_name': 'Rubby Lee', 'company': 'Company 2', 'country': 'United Kingdom'}, {'full_name': 'Robert White', 'company': 'Company 1', 'country': 'United States'}]\n"
          ]
        }
      ]
    },
    {
      "cell_type": "code",
      "source": [
        "def get_company_employee_nationality(employee_detail_list):\n",
        "    company_nationality = {}\n",
        "    for employee in employee_detail_list:\n",
        "        company = employee[\"company\"]\n",
        "        nationality = employee[\"nationality\"]\n",
        "\n",
        "        if company not in company_nationality:\n",
        "            company_nationality[company] = {}\n",
        "\n",
        "        if nationality not in company_nationality[company]:\n",
        "            company_nationality[company][nationality] = 0\n",
        "\n",
        "        company_nationality[company][nationality] += 1\n",
        "    result = []\n",
        "    for company, nationalities in company_nationality.items():\n",
        "        result.append({\n",
        "            \"company\": company,\n",
        "            \"employee_nationality\": nationalities\n",
        "        })\n",
        "\n",
        "    return result\n",
        "\n",
        "result = get_company_employee_nationality(employee_detail_list)\n",
        "print(result)"
      ],
      "metadata": {
        "id": "HrNG7nhE7lzh",
        "outputId": "b9a2a67f-febf-4622-bed4-823502577f91",
        "colab": {
          "base_uri": "https://localhost:8080/"
        }
      },
      "execution_count": 6,
      "outputs": [
        {
          "output_type": "stream",
          "name": "stdout",
          "text": [
            "[{'company': 'Company 1', 'employee_nationality': {'Australia': 2, 'United Kingdom': 1}}, {'company': 'Company 2', 'employee_nationality': {'United States': 1, 'Hong Kong': 1}}, {'company': 'Company 3', 'employee_nationality': {'United States': 2}}]\n"
          ]
        }
      ]
    }
  ],
  "metadata": {
    "colab": {
      "toc_visible": true,
      "provenance": []
    },
    "kernelspec": {
      "display_name": "Python 3",
      "name": "python3"
    }
  },
  "nbformat": 4,
  "nbformat_minor": 0
}